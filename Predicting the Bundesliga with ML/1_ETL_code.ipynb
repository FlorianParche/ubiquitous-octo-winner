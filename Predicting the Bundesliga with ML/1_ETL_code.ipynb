{
 "cells": [
  {
   "cell_type": "markdown",
   "metadata": {},
   "source": [
    "### This notebook contains the Extraction, Transformation and Loading of the dataset steps.\n",
    "\n",
    "#### Notebook 1: Extract-Transform-Load\n",
    "#### Notebook 2: Data Visualization\n",
    "#### Notebook 3: Feature Engineering, Hyperparameter tuning and Modelling\n",
    "#### Notebook 4: Result Evaluation"
   ]
  },
  {
   "cell_type": "code",
   "execution_count": null,
   "metadata": {
    "collapsed": true
   },
   "outputs": [],
   "source": [
    "import numpy as np\n",
    "import pandas as pd"
   ]
  },
  {
   "cell_type": "markdown",
   "metadata": {},
   "source": [
    "### Data on Bundesliga Game results was obtained from http://www.football-data.co.uk/germanym.php"
   ]
  },
  {
   "cell_type": "markdown",
   "metadata": {},
   "source": [
    "##### The data was downloaded on my local machine and transformed from csv into regular excel files, here they are importet into python"
   ]
  },
  {
   "cell_type": "code",
   "execution_count": null,
   "metadata": {
    "collapsed": true
   },
   "outputs": [],
   "source": [
    "file1 = pd.ExcelFile(r\"C:\\Users\\### LOCAL PATH ###\\data0001.xlsx\", header=True)\n",
    "file1 = pd.read_excel(file1)\n",
    "file2 = pd.ExcelFile(r\"C:\\Users\\### LOCAL PATH ###\\data0102.xlsx\", header=True)\n",
    "file2 = pd.read_excel(file2)\n",
    "file3 = pd.ExcelFile(r\"C:\\Users\\### LOCAL PATH ###\\data0203.xlsx\", header=True)\n",
    "file3 = pd.read_excel(file3)\n",
    "file4 = pd.ExcelFile(r\"C:\\Users\\### LOCAL PATH ###\\data0304.xlsx\", header=True)\n",
    "file4 = pd.read_excel(file4)\n",
    "file5 = pd.ExcelFile(r\"C:\\Users\\### LOCAL PATH ###\\data0405.xlsx\", header=True)\n",
    "file5 = pd.read_excel(file5)\n",
    "file6 = pd.ExcelFile(r\"C:\\Users\\### LOCAL PATH ###\\data0506.xlsx\", header=True)\n",
    "file6 = pd.read_excel(file6)\n",
    "file7 = pd.ExcelFile(r\"C:\\Users\\### LOCAL PATH ###\\data0607.xlsx\", header=True)\n",
    "file7 = pd.read_excel(file7)\n",
    "file8 = pd.ExcelFile(r\"C:\\Users\\### LOCAL PATH ###\\data0708.xlsx\", header=True)\n",
    "file8 = pd.read_excel(file8)\n",
    "file9 = pd.ExcelFile(r\"C:\\Users\\### LOCAL PATH ###\\data0809.xlsx\", header=True)\n",
    "file9 = pd.read_excel(file9)\n",
    "file10 = pd.ExcelFile(r\"C:\\Users\\### LOCAL PATH ###\\data0910.xlsx\", header=True)\n",
    "file10 = pd.read_excel(file10)\n",
    "file11 = pd.ExcelFile(r\"C:\\Users\\### LOCAL PATH ###\\data1011.xlsx\", header=True)\n",
    "file11 = pd.read_excel(file11)\n",
    "file12 = pd.ExcelFile(r\"C:\\Users\\### LOCAL PATH ###\\data1112.xlsx\", header=True)\n",
    "file12 = pd.read_excel(file12)\n",
    "file13 = pd.ExcelFile(r\"C:\\Users\\### LOCAL PATH ###\\data1213.xlsx\", header=True)\n",
    "file13 = pd.read_excel(file13)\n",
    "file14 = pd.ExcelFile(r\"C:\\Users\\### LOCAL PATH ###\\data1314.xlsx\", header=True)\n",
    "file14 = pd.read_excel(file14)\n",
    "file15 = pd.ExcelFile(r\"C:\\Users\\### LOCAL PATH ###\\data1415.xlsx\", header=True)\n",
    "file15 = pd.read_excel(file15)\n",
    "file16 = pd.ExcelFile(r\"C:\\Users\\### LOCAL PATH ###\\data1516.xlsx\", header=True)\n",
    "file16 = pd.read_excel(file16)\n",
    "file17 = pd.ExcelFile(r\"C:\\Users\\### LOCAL PATH ###\\data1617.xlsx\", header=True)\n",
    "file17 = pd.read_excel(file17)\n",
    "file18 = pd.ExcelFile(r\"C:\\Users\\### LOCAL PATH ###\\data1718.xlsx\", header=True)\n",
    "file18 = pd.read_excel(file18)\n",
    "file19 = pd.ExcelFile(r\"C:\\Users\\### LOCAL PATH ###\\data1819.xlsx\", header=True)\n",
    "file19 = pd.read_excel(file19)"
   ]
  },
  {
   "cell_type": "code",
   "execution_count": null,
   "metadata": {
    "collapsed": true
   },
   "outputs": [],
   "source": [
    "files = [file1, file2, file3, file4, file5, file6, file7, file8, file9, file10, file11, file12, file13, file14, file15, file16, file17, file18, file19]"
   ]
  },
  {
   "cell_type": "code",
   "execution_count": null,
   "metadata": {},
   "outputs": [],
   "source": [
    "# The data includes several acronyms\n",
    "# Included are general statistics such as the goals scored by either team, team names, the result ('H' - Home team wins)\n",
    "# Further included are the betting odds from by several sports betting providers\n",
    "# Unfortunately, not every file includes every statistic\n",
    "file18.tail(3)"
   ]
  },
  {
   "cell_type": "markdown",
   "metadata": {},
   "source": [
    "##### Adding a column with the year that the season started, to which a game belongs"
   ]
  },
  {
   "cell_type": "code",
   "execution_count": null,
   "metadata": {
    "collapsed": true
   },
   "outputs": [],
   "source": [
    "x = 2000\n",
    "\n",
    "for file in files:\n",
    "    \n",
    "    file[\"Season start\"] = x\n",
    "    \n",
    "    x +=1"
   ]
  },
  {
   "cell_type": "markdown",
   "metadata": {},
   "source": [
    "##### The code below shortens the data aiming to keep as many datapoints as possible while keeping dimensionality high"
   ]
  },
  {
   "cell_type": "code",
   "execution_count": null,
   "metadata": {
    "collapsed": true
   },
   "outputs": [],
   "source": [
    "file1 = file1[[\"Season start\",\"HomeTeam\",\"AwayTeam\",\"FTHG\",\"FTAG\",\"FTR\", \"IWH\",\"IWD\",\"IWA\",\"LBH\",\"LBD\",\"LBA\",\"WHH\",\"WHD\",\"WHA\"]]\n",
    "file2 = file2[[\"Season start\",\"HomeTeam\",\"AwayTeam\",\"FTHG\",\"FTAG\",\"FTR\", \"IWH\",\"IWD\",\"IWA\",\"LBH\",\"LBD\",\"LBA\",\"WHH\",\"WHD\",\"WHA\"]]\n",
    "file3 = file3[[\"Season start\",\"HomeTeam\",\"AwayTeam\",\"FTHG\",\"FTAG\",\"FTR\", \"IWH\",\"IWD\",\"IWA\",\"LBH\",\"LBD\",\"LBA\",\"WHH\",\"WHD\",\"WHA\"]]\n",
    "file4 = file4[[\"Season start\",\"HomeTeam\",\"AwayTeam\",\"FTHG\",\"FTAG\",\"FTR\", \"IWH\",\"IWD\",\"IWA\",\"LBH\",\"LBD\",\"LBA\",\"WHH\",\"WHD\",\"WHA\"]]\n",
    "file5 = file5[[\"Season start\",\"HomeTeam\",\"AwayTeam\",\"FTHG\",\"FTAG\",\"FTR\", \"IWH\",\"IWD\",\"IWA\",\"LBH\",\"LBD\",\"LBA\",\"WHH\",\"WHD\",\"WHA\"]]\n",
    "file6 = file6[[\"Season start\",\"HomeTeam\",\"AwayTeam\",\"FTHG\",\"FTAG\",\"FTR\", \"IWH\",\"IWD\",\"IWA\",\"LBH\",\"LBD\",\"LBA\",\"WHH\",\"WHD\",\"WHA\"]]\n",
    "file7 = file7[[\"Season start\",\"HomeTeam\",\"AwayTeam\",\"FTHG\",\"FTAG\",\"FTR\",\"IWH\",\"IWD\",\"IWA\",\"LBH\",\"LBD\",\"LBA\",\"WHH\",\"WHD\",\"WHA\"]]\n",
    "file8 = file8[[\"Season start\",\"HomeTeam\",\"AwayTeam\",\"FTHG\",\"FTAG\",\"FTR\",\"IWH\",\"IWD\",\"IWA\",\"LBH\",\"LBD\",\"LBA\",\"WHH\",\"WHD\",\"WHA\"]]\n",
    "file9 = file9[[\"Season start\",\"HomeTeam\",\"AwayTeam\",\"FTHG\",\"FTAG\",\"FTR\",\"IWH\",\"IWD\",\"IWA\",\"LBH\",\"LBD\",\"LBA\",\"WHH\",\"WHD\",\"WHA\"]]\n",
    "file10 = file10[[\"Season start\",\"HomeTeam\",\"AwayTeam\",\"FTHG\",\"FTAG\",\"FTR\",\"IWH\",\"IWD\",\"IWA\",\"LBH\",\"LBD\",\"LBA\",\"WHH\",\"WHD\",\"WHA\"]]\n",
    "file11 = file11[[\"Season start\",\"HomeTeam\",\"AwayTeam\",\"FTHG\",\"FTAG\",\"FTR\",\"IWH\",\"IWD\",\"IWA\",\"LBH\",\"LBD\",\"LBA\",\"WHH\",\"WHD\",\"WHA\"]]\n",
    "file12 = file12[[\"Season start\",\"HomeTeam\",\"AwayTeam\",\"FTHG\",\"FTAG\",\"FTR\",\"IWH\",\"IWD\",\"IWA\",\"LBH\",\"LBD\",\"LBA\",\"WHH\",\"WHD\",\"WHA\"]]\n",
    "file13 = file13[[\"Season start\",\"HomeTeam\",\"AwayTeam\",\"FTHG\",\"FTAG\",\"FTR\",\"IWH\",\"IWD\",\"IWA\",\"LBH\",\"LBD\",\"LBA\",\"WHH\",\"WHD\",\"WHA\"]]\n",
    "file14 = file14[[\"Season start\",\"HomeTeam\",\"AwayTeam\",\"FTHG\",\"FTAG\",\"FTR\",\"IWH\",\"IWD\",\"IWA\",\"LBH\",\"LBD\",\"LBA\",\"WHH\",\"WHD\",\"WHA\"]]\n",
    "file15 = file15[[\"Season start\",\"HomeTeam\",\"AwayTeam\",\"FTHG\",\"FTAG\",\"FTR\",\"IWH\",\"IWD\",\"IWA\",\"LBH\",\"LBD\",\"LBA\",\"WHH\",\"WHD\",\"WHA\"]]\n",
    "file16 = file16[[\"Season start\",\"HomeTeam\",\"AwayTeam\",\"FTHG\",\"FTAG\",\"FTR\",\"IWH\",\"IWD\",\"IWA\",\"LBH\",\"LBD\",\"LBA\",\"WHH\",\"WHD\",\"WHA\"]]\n",
    "file17 = file17[[\"Season start\",\"HomeTeam\",\"AwayTeam\",\"FTHG\",\"FTAG\",\"FTR\",\"IWH\",\"IWD\",\"IWA\",\"LBH\",\"LBD\",\"LBA\",\"WHH\",\"WHD\",\"WHA\"]]\n",
    "file18 = file18[[\"Season start\",\"HomeTeam\",\"AwayTeam\",\"FTHG\",\"FTAG\",\"FTR\",\"IWH\",\"IWD\",\"IWA\",\"LBH\",\"LBD\",\"LBA\",\"WHH\",\"WHD\",\"WHA\"]]\n",
    "file19 = file19[[\"Season start\",\"HomeTeam\",\"AwayTeam\",\"FTHG\",\"FTAG\",\"FTR\",\"IWH\",\"IWD\",\"IWA\",\"B365H\",\"B365D\",\"B365A\",\"WHH\",\"WHD\",\"WHA\"]]\n",
    "\n",
    "files = [file1, file2, file3, file4, file5, file6, file7, file8, file9, file10, file11, file12, file13, file14, file15, file16, file17, file18]\n",
    "file19 = file19.rename(columns={\"B365H\":\"LBH\",\"B365D\":\"LBD\",\"B365A\":\"LBA\"})# file19 slightly different since no odds available from a certain provider - replaced by another\n",
    "files2 = [file18, file19]"
   ]
  },
  {
   "cell_type": "code",
   "execution_count": null,
   "metadata": {
    "collapsed": true
   },
   "outputs": [],
   "source": [
    "## Feature Engineering part 1:\n",
    "# - Adding the Gameday\n",
    "\n",
    "for file in files:\n",
    "    file[\"Gameday\"] = np.nan\n",
    "    x = 1\n",
    "    for i in range(0,306,9):\n",
    "        file.iloc[i:i+9,-1] = x\n",
    "        x += 1\n",
    "\n",
    "for file in files2:\n",
    "    file[\"Gameday\"] = np.nan\n",
    "    x = 1\n",
    "    for i in range(0,306,9):\n",
    "        file.iloc[i:i+9,-1] = x\n",
    "        x += 1\n",
    "        "
   ]
  },
  {
   "cell_type": "code",
   "execution_count": null,
   "metadata": {
    "collapsed": true
   },
   "outputs": [],
   "source": [
    "# combining the individual files\n",
    "\n",
    "data = pd.DataFrame()\n",
    "\n",
    "for file in files:\n",
    "    data = data.append(file)\n",
    "    \n",
    "data_current_season = pd.DataFrame()\n",
    "data_current_season = file18.append(file19)"
   ]
  },
  {
   "cell_type": "markdown",
   "metadata": {},
   "source": [
    "##### Some data is still missing - mostly odds by one of the sports betting providers"
   ]
  },
  {
   "cell_type": "code",
   "execution_count": null,
   "metadata": {},
   "outputs": [],
   "source": [
    "data.shape"
   ]
  },
  {
   "cell_type": "code",
   "execution_count": null,
   "metadata": {},
   "outputs": [],
   "source": [
    "data.dropna().shape"
   ]
  },
  {
   "cell_type": "code",
   "execution_count": null,
   "metadata": {},
   "outputs": [],
   "source": [
    "data = data.reset_index(drop=True)\n",
    "data_current_season = data_current_season.reset_index(drop=True)\n",
    "data.head()"
   ]
  },
  {
   "cell_type": "code",
   "execution_count": null,
   "metadata": {},
   "outputs": [],
   "source": [
    "null_counts = data.isnull().sum()\n",
    "null_counts[null_counts > 0].sort_values(ascending = False)"
   ]
  },
  {
   "cell_type": "code",
   "execution_count": null,
   "metadata": {
    "collapsed": true
   },
   "outputs": [],
   "source": []
  },
  {
   "cell_type": "markdown",
   "metadata": {},
   "source": [
    "##### Averaging betting odds and finalizing the initial dataset"
   ]
  },
  {
   "cell_type": "code",
   "execution_count": null,
   "metadata": {
    "collapsed": true
   },
   "outputs": [],
   "source": [
    "data[\"Odds H\"] = data[[\"IWH\",\"LBH\",\"WHH\"]].median(axis=1)\n",
    "data[\"Odds D\"] = data[[\"IWD\",\"LBD\",\"WHD\"]].median(axis=1)\n",
    "data[\"Odds A\"] = data[[\"IWA\",\"LBA\",\"WHA\"]].median(axis=1)\n",
    "\n",
    "data_current_season[\"Odds H\"] = data_current_season[[\"IWH\",\"LBH\",\"WHH\"]].median(axis=1)\n",
    "data_current_season[\"Odds D\"] = data_current_season[[\"IWD\",\"LBD\",\"WHD\"]].median(axis=1)\n",
    "data_current_season[\"Odds A\"] = data_current_season[[\"IWA\",\"LBA\",\"WHA\"]].median(axis=1)"
   ]
  },
  {
   "cell_type": "code",
   "execution_count": null,
   "metadata": {
    "collapsed": true
   },
   "outputs": [],
   "source": [
    "data = data.rename(columns={\"FTHG\":\"Home Goals\",\"FTAG\":\"Away Goals\",\"FTR\":\"Result\"})\n",
    "data = data[[\"Season start\",\"Gameday\",\"HomeTeam\",\"AwayTeam\",\"Home Goals\",\"Away Goals\",\"Result\",\"Odds H\",\"Odds D\",\"Odds A\"]]\n",
    "\n",
    "data_current_season = data_current_season.rename(columns={\"FTHG\":\"Home Goals\",\"FTAG\":\"Away Goals\",\"FTR\":\"Result\"})\n",
    "data_current_season = data_current_season[[\"Season start\",\"Gameday\",\"HomeTeam\",\"AwayTeam\",\"Home Goals\",\"Away Goals\",\"Result\",\"Odds H\",\"Odds D\",\"Odds A\"]]\n"
   ]
  },
  {
   "cell_type": "code",
   "execution_count": null,
   "metadata": {},
   "outputs": [],
   "source": [
    "data.head()"
   ]
  },
  {
   "cell_type": "code",
   "execution_count": null,
   "metadata": {},
   "outputs": [],
   "source": [
    "data.describe()"
   ]
  },
  {
   "cell_type": "code",
   "execution_count": null,
   "metadata": {
    "collapsed": true
   },
   "outputs": [],
   "source": [
    "# data that will be used for training and modeling\n",
    "data.to_csv(r'C:\\Users\\### LOCAL PATH ###\\dataforcapstone.txt', header = True, index=None, sep='\\t')"
   ]
  },
  {
   "cell_type": "code",
   "execution_count": null,
   "metadata": {
    "collapsed": true
   },
   "outputs": [],
   "source": [
    "# data for \"reality check\"\n",
    "data_current_season.to_csv(r'C:\\Users\\### LOCAL PATH ###\\data_current_season.txt', header = True, index=None, sep='\\t')"
   ]
  },
  {
   "cell_type": "code",
   "execution_count": null,
   "metadata": {},
   "outputs": [],
   "source": [
    "data_current_season.head()"
   ]
  },
  {
   "cell_type": "code",
   "execution_count": null,
   "metadata": {
    "collapsed": true
   },
   "outputs": [],
   "source": []
  },
  {
   "cell_type": "code",
   "execution_count": null,
   "metadata": {
    "collapsed": true
   },
   "outputs": [],
   "source": []
  }
 ],
 "metadata": {
  "kernelspec": {
   "display_name": "Python 3",
   "language": "python",
   "name": "python3"
  },
  "language_info": {
   "codemirror_mode": {
    "name": "ipython",
    "version": 3
   },
   "file_extension": ".py",
   "mimetype": "text/x-python",
   "name": "python",
   "nbconvert_exporter": "python",
   "pygments_lexer": "ipython3",
   "version": "3.6.2"
  }
 },
 "nbformat": 4,
 "nbformat_minor": 2
}
