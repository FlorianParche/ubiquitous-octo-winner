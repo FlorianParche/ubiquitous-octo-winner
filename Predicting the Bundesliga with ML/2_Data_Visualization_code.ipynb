{
 "cells": [
  {
   "cell_type": "markdown",
   "metadata": {},
   "source": [
    "### This notebook contains the Data visualization.\n",
    "\n",
    "#### Notebook 1: Extract-Transform-Load\n",
    "#### Notebook 2: Data Visualization\n",
    "#### Notebook 3: Feature Engineering, Hyperparameter tuning and Modelling\n",
    "#### Notebook 4: Result Evaluation"
   ]
  },
  {
   "cell_type": "code",
   "execution_count": null,
   "metadata": {
    "collapsed": true
   },
   "outputs": [],
   "source": [
    "import pandas as pd\n",
    "import numpy as np"
   ]
  },
  {
   "cell_type": "code",
   "execution_count": null,
   "metadata": {
    "collapsed": true
   },
   "outputs": [],
   "source": [
    "%matplotlib inline \n",
    "\n",
    "import matplotlib as mpl\n",
    "import matplotlib.pyplot as plt\n"
   ]
  },
  {
   "cell_type": "code",
   "execution_count": null,
   "metadata": {},
   "outputs": [],
   "source": [
    "# data import - since some raw datapoints are excluded in the modelling, this data comes from the 3. Notebook\n",
    "Raw_data = pd.read_csv(r\"C:\\Users\\### LOCAL PATH ###\\Data_for_visualization.txt\", sep = \"\\t\")\n",
    "Raw_data.shape"
   ]
  },
  {
   "cell_type": "code",
   "execution_count": null,
   "metadata": {},
   "outputs": [],
   "source": [
    "Raw_data.head()"
   ]
  },
  {
   "cell_type": "markdown",
   "metadata": {
    "collapsed": true
   },
   "source": [
    "##### Adding some columns with potentially informative content"
   ]
  },
  {
   "cell_type": "code",
   "execution_count": null,
   "metadata": {
    "collapsed": true
   },
   "outputs": [],
   "source": [
    "Raw_data[\"Favorite\"] = np.nan\n",
    "for i in range(Raw_data.shape[0]):\n",
    "    Raw_data.loc[i,\"Favorite\"] = np.where(Raw_data.loc[i,\"Odds H\"] < Raw_data.loc[i,\"Odds A\"], \"Home Team\", \n",
    "                                np.where(Raw_data.loc[i,\"Odds H\"] > Raw_data.loc[i,\"Odds A\"],\"Away Team\",\n",
    "                                np.where(Raw_data.loc[i,\"Odds H\"] == Raw_data.loc[i,\"Odds A\"],\"Even\", Raw_data.loc[i,\"Favorite\"])))\n",
    "    \n",
    "Raw_data[\"Favorite\"] = Raw_data[\"Favorite\"].astype(str)\n",
    "Onehot = pd.get_dummies(Raw_data[[\"Result\"]], prefix='', prefix_sep='')\n",
    "Onehot.columns = [\"Win: \" + str(col) for col in Onehot.columns]\n",
    "Raw_data = pd.concat([Raw_data, Onehot], axis=1)"
   ]
  },
  {
   "cell_type": "markdown",
   "metadata": {
    "collapsed": true
   },
   "source": [
    "##### Goals scored statistics"
   ]
  },
  {
   "cell_type": "code",
   "execution_count": null,
   "metadata": {},
   "outputs": [],
   "source": [
    "Raw_data[[\"Home Goals\", \"Away Goals\"]].plot(kind='box', figsize=(6,6))\n",
    "plt.xlabel(\"Goals - Location\")\n",
    "plt.ylabel(\"Goals - Number\")\n",
    "plt.title(\"Goals Boxplot\")\n",
    "plt.show()"
   ]
  },
  {
   "cell_type": "markdown",
   "metadata": {},
   "source": [
    "##### Odds"
   ]
  },
  {
   "cell_type": "code",
   "execution_count": null,
   "metadata": {},
   "outputs": [],
   "source": [
    "Raw_data[[\"Odds H\", \"Odds D\", \"Odds A\"]].plot(kind='box', figsize=(6,6))\n",
    "\n",
    "plt.ylabel(\"Odds\")\n",
    "plt.title(\"Odds Boxplot\")\n",
    "plt.show()"
   ]
  },
  {
   "cell_type": "code",
   "execution_count": null,
   "metadata": {},
   "outputs": [],
   "source": [
    "colors_list = [\"green\",\"coral\"]\n",
    "df1 = Raw_data[[\"AwayTeam\", \"Away Goals\"]].rename(columns={\"AwayTeam\":\"Team\"})\n",
    "df2 = Raw_data[[\"HomeTeam\", \"Home Goals\"]].rename(columns={\"HomeTeam\":\"Team\"})\n",
    "df = df2.merge(df1, how=\"left\",on=\"Team\")\n",
    "df = df.groupby(\"Team\", as_index=True).mean().sort_values([\"Home Goals\",\"Away Goals\"],ascending=[False, False])\n",
    "\n",
    "df.plot(kind='bar', figsize=(18,6), color = colors_list)\n",
    "plt.xlabel(\"Team\", size = 13)\n",
    "plt.ylabel(\"Mean Goals\", size = 13)\n",
    "plt.title(\"Avg. Goals scored by Team\", size = 16)\n",
    "plt.ylim(0.,4.)\n",
    "plt.show()"
   ]
  },
  {
   "cell_type": "markdown",
   "metadata": {},
   "source": [
    "##### Wins statistics"
   ]
  },
  {
   "cell_type": "code",
   "execution_count": null,
   "metadata": {},
   "outputs": [],
   "source": [
    "colors_list = [\"yellowgreen\",\"gold\",\"orangered\"]\n",
    "\n",
    "df1 = Raw_data[[\"AwayTeam\", \"Win: H\", \"Win: D\", \"Win: A\"]].rename(columns={\"AwayTeam\":\"Team\",\"Win: H\":\"Loss\", \"Win: D\":\"Draw\", \"Win: A\":\"Win\"})\n",
    "df2 = Raw_data[[\"HomeTeam\", \"Win: H\", \"Win: D\", \"Win: A\"]].rename(columns={\"HomeTeam\":\"Team\",\"Win: H\":\"Win\", \"Win: D\":\"Draw\", \"Win: A\":\"Loss\"})\n",
    "df = pd.concat([df2, df1])\n",
    "df = df[[\"Team\",\"Win\",\"Draw\",\"Loss\"]]\n",
    "df = df.groupby(\"Team\", as_index=True).mean().sort_values([\"Win\",\"Loss\"],ascending=[False, True])\n",
    "\n",
    "df.plot(kind='bar', figsize=(18,6), color = colors_list)\n",
    "plt.xlabel(\"Team\", size = 13)\n",
    "plt.xticks(rotation=70)\n",
    "plt.ylabel(\"Mean Winner\", size = 13)\n",
    "plt.title(\"Avg. Game Result by Team\", size = 16)\n",
    "plt.ylim(0.,1.)\n",
    "plt.show()"
   ]
  },
  {
   "cell_type": "code",
   "execution_count": null,
   "metadata": {
    "collapsed": true
   },
   "outputs": [],
   "source": []
  },
  {
   "cell_type": "code",
   "execution_count": null,
   "metadata": {},
   "outputs": [],
   "source": [
    "colors_list = [\"pink\", \"grey\",\"yellowgreen\"]\n",
    "\n",
    "df = Raw_data[[\"Favorite\", \"Win: A\", \"Win: D\", \"Win: H\"]].rename(columns={\"Win: H\":\"Home Team W\", \"Win: D\":\"Draw\", \"Win: A\":\"Away Team W\"})\n",
    "df = df.loc[df[\"Favorite\"] != \"nan\"]\n",
    "df = df.groupby(\"Favorite\", as_index=True).mean()\n",
    "\n",
    "ax = df.plot(kind='barh', figsize =(10,7), color = colors_list, edgecolor='w')\n",
    "\n",
    "ax.set_alpha(0.8)\n",
    "ax.set_title(\"Avg. Game Result by which Team was the Favorite\", size = 16)\n",
    "\n",
    "ax.set_xlabel(\"Winner %\", size = 13)\n",
    "ax.set_ylabel(\"Favorite\", size = 13)\n",
    "ax.set_xlim(0.,1.)\n",
    "ax.set_yticklabels([\"Away Team\",\"Even\",\"Home team\"])\n",
    "\n",
    "for i in ax.patches:\n",
    "    ax.text(i.get_width()+0.01, i.get_y()+0.11, (str(round((i.get_width())*100,2))+\"%\"), fontsize=11, color='black')\n",
    "    \n",
    "ax.invert_yaxis()"
   ]
  },
  {
   "cell_type": "code",
   "execution_count": null,
   "metadata": {
    "collapsed": true
   },
   "outputs": [],
   "source": []
  },
  {
   "cell_type": "code",
   "execution_count": null,
   "metadata": {
    "collapsed": true
   },
   "outputs": [],
   "source": []
  },
  {
   "cell_type": "code",
   "execution_count": null,
   "metadata": {},
   "outputs": [],
   "source": [
    "colors_list = [\"yellowgreen\",\"grey\",\"pink\"]\n",
    "explode_list =[0.03,0.03,0.03]\n",
    "\n",
    "dfx = Raw_data[\"Result\"].str.replace(\"H\", \"Home Team Win\").str.replace(\"A\",\"Away Team Win\").str.replace(\"D\", \"Draw\")\n",
    "dfx.value_counts().plot(kind='pie', figsize =(10,6), colors = colors_list, \n",
    "                       autopct='%1.1f%%',\n",
    "                        fontsize= 12,\n",
    "                       shadow = True, \n",
    "                       startangle = 281, \n",
    "                       pctdistance = 1.15,\n",
    "                      labels = None,\n",
    "                      explode = explode_list)\n",
    "\n",
    "plt.axis('equal')\n",
    "plt.ylabel(\"\")\n",
    "plt.legend(labels=[\"Home Team Win\",\"Draw\",\"Away Team Win\"], loc = 'upper right', prop={'size':12})\n",
    "plt.title(\"Game results\", y = 1.05, size = 16)\n",
    "plt.show()"
   ]
  },
  {
   "cell_type": "code",
   "execution_count": null,
   "metadata": {},
   "outputs": [],
   "source": [
    "df = Raw_data.loc[:,[\"Favorite\",\"Result\"]]\n",
    "df = df.loc[df[\"Favorite\"] != \"Even\"].reset_index(drop=True)\n",
    "df[\"Winner\"] = np.nan\n",
    "\n",
    "for i in range(df.shape[0]):\n",
    "    df.loc[i,\"Winner\"] = np.where((df.loc[i,\"Result\"]==\"H\")&(df.loc[i,\"Favorite\"]==\"Home Team\"),\"Favorite Win\", \n",
    "                        np.where((df.loc[i,\"Result\"]==\"A\")&(df.loc[i,\"Favorite\"]==\"Away Team\"),\"Favorite Win\",\n",
    "                        np.where((df.loc[i,\"Result\"]==\"H\")&(df.loc[i,\"Favorite\"]==\"Away Team\"),\"Underdog Win\",\n",
    "                        np.where((df.loc[i,\"Result\"]==\"A\")&(df.loc[i,\"Favorite\"]==\"Home Team\"),\"Underdog Win\",\"Draw\"))))\n",
    "    \n",
    "df[\"Winner\"] = df[\"Winner\"].astype(str)    \n",
    "colors_list = [\"yellowgreen\",\"grey\",\"orange\"]\n",
    "explode_list =[0.03,0.03,0.03]\n",
    "\n",
    "df[\"Winner\"].value_counts().plot(kind='pie', figsize =(10,6), colors = colors_list, \n",
    "                       autopct='%1.1f%%',\n",
    "                        fontsize= 12,\n",
    "                       shadow = True, \n",
    "                       startangle = 264, \n",
    "                       pctdistance = 1.15,\n",
    "                      labels = None,\n",
    "                      explode = explode_list)\n",
    "\n",
    "plt.axis('equal')\n",
    "plt.ylabel(\"\")\n",
    "plt.legend(labels=[\"Favorite Win\", \"Draw\",\"Underdog Win\"],loc = 'upper right', prop={'size':12})\n",
    "plt.title(\"Did the favorite win?\", y = 1.05, size = 16)\n",
    "plt.show()"
   ]
  },
  {
   "cell_type": "code",
   "execution_count": null,
   "metadata": {
    "collapsed": true
   },
   "outputs": [],
   "source": []
  },
  {
   "cell_type": "code",
   "execution_count": null,
   "metadata": {},
   "outputs": [],
   "source": [
    "df = Raw_data[[\"HomeTeam\",\"AwayTeam\", \"Home Goals\",\"Away Goals\",\"Win: A\",\"Win: D\",\"Win: H\"]]\n",
    "df1 = df[[\"HomeTeam\",\"Home Goals\",\"Win: A\",\"Win: D\",\"Win: H\"]].rename(columns={\"HomeTeam\":\"Team\",\"Home Goals\":\"Goals\"})\n",
    "df2 = df[[\"AwayTeam\",\"Away Goals\",\"Win: A\",\"Win: D\",\"Win: H\"]].rename(columns={\"AwayTeam\":\"Team\",\"Away Goals\":\"Goals\"})\n",
    "df1[\"Points\"] = df1[\"Win: D\"] + df1[\"Win: H\"] *3\n",
    "df2[\"Points\"] = df1[\"Win: D\"] + df1[\"Win: A\"] *3\n",
    "df1 = df1.drop([\"Win: A\",\"Win: D\", \"Win: H\"], axis=1)\n",
    "df2 = df2.drop([\"Win: A\",\"Win: D\", \"Win: H\"], axis=1)\n",
    "\n",
    "df = pd.concat([df1, df2])\n",
    "df = df.groupby(\"Team\", as_index=False).mean()\n",
    "\n",
    "fit = np.polyfit(df[\"Goals\"], df[\"Points\"], deg=1)\n",
    "\n",
    "df.plot(kind=\"scatter\", x=\"Goals\", y=\"Points\", figsize = (12,6))\n",
    "plt.plot(df[\"Goals\"], fit[0] * df[\"Goals\"] + fit[1], color = 'r')\n",
    "plt.title(\"Goals-Points Averages entire sample\", size=16)\n",
    "plt.xlabel(\"Avg. Goals\", size = 13)\n",
    "plt.ylabel(\"Avg. Points\", size = 13)\n",
    "\n",
    "\n",
    "plt.show()"
   ]
  },
  {
   "cell_type": "code",
   "execution_count": null,
   "metadata": {},
   "outputs": [],
   "source": [
    "df.sort_values(\"Points\", ascending=False).head()"
   ]
  },
  {
   "cell_type": "code",
   "execution_count": null,
   "metadata": {
    "collapsed": true
   },
   "outputs": [],
   "source": [
    "df = Raw_data[[\"Season start\",\"HomeTeam\",\"AwayTeam\", \"Home Goals\",\"Away Goals\",\"Win: A\",\"Win: D\",\"Win: H\"]]\n",
    "df1 = df[[\"Season start\",\"HomeTeam\",\"Home Goals\",\"Win: A\",\"Win: D\",\"Win: H\"]].rename(columns={\"HomeTeam\":\"Team\",\"Home Goals\":\"Goals\"})\n",
    "df2 = df[[\"Season start\",\"AwayTeam\",\"Away Goals\",\"Win: A\",\"Win: D\",\"Win: H\"]].rename(columns={\"AwayTeam\":\"Team\",\"Away Goals\":\"Goals\"})\n",
    "df1[\"Points\"] = df1[\"Win: D\"] + df1[\"Win: H\"] *3\n",
    "df2[\"Points\"] = df1[\"Win: D\"] + df1[\"Win: A\"] *3\n",
    "df1 = df1.drop([\"Win: A\",\"Win: D\", \"Win: H\"], axis=1)\n",
    "df2 = df2.drop([\"Win: A\",\"Win: D\", \"Win: H\"], axis=1)\n",
    "\n",
    "df = pd.concat([df1, df2])\n",
    "df = df.groupby([\"Season start\",\"Team\"], as_index=False).mean()\n",
    "df3 = df.rename(columns={\"Goals\":\"prev. season Goals\",\"Points\":\"prev. season Points\"})\n",
    "df3[\"Season start\"] = df3[\"Season start\"]+1\n",
    "\n",
    "df = df.merge(df3, how=\"left\", on=[\"Season start\",\"Team\"])\n",
    "df = df.dropna()"
   ]
  },
  {
   "cell_type": "code",
   "execution_count": null,
   "metadata": {},
   "outputs": [],
   "source": [
    "fit = np.polyfit(df[\"Goals\"], df[\"Points\"], deg=1)\n",
    "\n",
    "df.plot(kind=\"scatter\", x=\"Goals\", y=\"Points\", figsize = (12,6))\n",
    "plt.plot(df[\"Goals\"], fit[0] * df[\"Goals\"] + fit[1], color = 'r')\n",
    "plt.title(\"Goals & Points in a season\", size=16)\n",
    "plt.xlabel(\"Avg. Goals\", size = 13)\n",
    "plt.ylabel(\"Avg. Points\", size = 13)\n",
    "\n",
    "plt.show()"
   ]
  },
  {
   "cell_type": "code",
   "execution_count": null,
   "metadata": {},
   "outputs": [],
   "source": [
    "fit = np.polyfit(df[\"prev. season Goals\"], df[\"Goals\"], deg=1)\n",
    "\n",
    "df.plot(kind=\"scatter\", x=\"prev. season Goals\", y=\"Goals\", figsize = (12,6))\n",
    "plt.plot(df[\"prev. season Goals\"], fit[0] * df[\"prev. season Goals\"] + fit[1], color = 'r')\n",
    "plt.title(\"Goals & prev. season's Goals\", size=16)\n",
    "plt.xlabel(\"Avg. Goals prior season\", size = 13)\n",
    "plt.ylabel(\"Avg. Goals\", size = 13)\n",
    "\n",
    "plt.show()"
   ]
  },
  {
   "cell_type": "code",
   "execution_count": null,
   "metadata": {},
   "outputs": [],
   "source": [
    "fit = np.polyfit(df[\"prev. season Points\"], df[\"Points\"], deg=1)\n",
    "\n",
    "df.plot(kind=\"scatter\", x=\"prev. season Points\", y=\"Points\", figsize = (12,6))\n",
    "plt.plot(df[\"prev. season Points\"], fit[0] * df[\"prev. season Points\"] + fit[1], color = 'r')\n",
    "plt.title(\"Points season(t-1) & Points season(t)\", size=20)\n",
    "plt.xlabel(\"Avg. Points prior season\", size = 16)\n",
    "plt.ylabel(\"Avg. Points\", size = 16)\n",
    "\n",
    "plt.show()"
   ]
  },
  {
   "cell_type": "code",
   "execution_count": null,
   "metadata": {},
   "outputs": [],
   "source": [
    "fit = np.polyfit(df[\"prev. season Goals\"], df[\"Points\"], deg=1)\n",
    "\n",
    "df.plot(kind=\"scatter\", x=\"prev. season Goals\", y=\"Points\", figsize = (12,6))\n",
    "plt.plot(df[\"prev. season Goals\"], fit[0] * df[\"prev. season Goals\"] + fit[1], color = 'r')\n",
    "plt.title(\"Goals season(t-1) & Points season(t)\", size=20)\n",
    "plt.xlabel(\"Avg. Goals prior season\", size = 16)\n",
    "plt.ylabel(\"Avg. Points\", size = 16)\n",
    "\n",
    "plt.show()"
   ]
  },
  {
   "cell_type": "code",
   "execution_count": null,
   "metadata": {},
   "outputs": [],
   "source": [
    "df = Raw_data[[\"Season start\",\"HomeTeam\",\"AwayTeam\", \"Home Goals\",\"Away Goals\",\"Win: A\",\"Win: D\",\"Win: H\"]]\n",
    "df1 = df[[\"Season start\",\"HomeTeam\",\"Home Goals\",\"Win: A\",\"Win: D\",\"Win: H\"]].rename(columns={\"HomeTeam\":\"Team\",\"Home Goals\":\"Goals\"})\n",
    "df2 = df[[\"Season start\",\"AwayTeam\",\"Away Goals\",\"Win: A\",\"Win: D\",\"Win: H\"]].rename(columns={\"AwayTeam\":\"Team\",\"Away Goals\":\"Goals\"})\n",
    "df1[\"Points\"] = df1[\"Win: D\"] + df1[\"Win: H\"] *3\n",
    "df2[\"Points\"] = df1[\"Win: D\"] + df1[\"Win: A\"] *3\n",
    "df1 = df1.drop([\"Win: A\",\"Win: D\", \"Win: H\"], axis=1)\n",
    "df2 = df2.drop([\"Win: A\",\"Win: D\", \"Win: H\"], axis=1)\n",
    "\n",
    "df = pd.concat([df1, df2])\n",
    "df = df.groupby([\"Season start\"], as_index=False).mean()\n",
    "\n",
    "df.plot(kind='line', x = [\"Season start\"], y = [\"Goals\",\"Points\"], figsize=(20,6))\n",
    "        \n",
    "\n",
    "plt.xlabel(\"Year season startet\", size = 13)\n",
    "plt.ylabel(\"Avg. Goals & Points\", size = 13)\n",
    "plt.title(\"Avg. Goals & Points per Season\", size = 16)\n",
    "plt.legend(prop={'size':12})\n",
    "\n",
    "plt.show()"
   ]
  },
  {
   "cell_type": "code",
   "execution_count": null,
   "metadata": {
    "collapsed": true
   },
   "outputs": [],
   "source": []
  },
  {
   "cell_type": "code",
   "execution_count": null,
   "metadata": {
    "collapsed": true
   },
   "outputs": [],
   "source": []
  }
 ],
 "metadata": {
  "kernelspec": {
   "display_name": "Python 3",
   "language": "python",
   "name": "python3"
  },
  "language_info": {
   "codemirror_mode": {
    "name": "ipython",
    "version": 3
   },
   "file_extension": ".py",
   "mimetype": "text/x-python",
   "name": "python",
   "nbconvert_exporter": "python",
   "pygments_lexer": "ipython3",
   "version": "3.6.2"
  }
 },
 "nbformat": 4,
 "nbformat_minor": 2
}
